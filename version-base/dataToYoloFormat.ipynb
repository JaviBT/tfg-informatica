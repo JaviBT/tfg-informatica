{
 "cells": [
  {
   "cell_type": "markdown",
   "metadata": {},
   "source": [
    "# Convert Data from RDD2022 to YOLO Format"
   ]
  },
  {
   "cell_type": "code",
   "execution_count": 23,
   "metadata": {},
   "outputs": [],
   "source": [
    "import os, sys\n",
    "import xml.etree.ElementTree as ET\n",
    "from tqdm import tqdm"
   ]
  },
  {
   "cell_type": "code",
   "execution_count": 24,
   "metadata": {},
   "outputs": [],
   "source": [
    "path = '../datasets/RDD2022/images'"
   ]
  },
  {
   "cell_type": "code",
   "execution_count": 25,
   "metadata": {},
   "outputs": [
    {
     "data": {
      "text/plain": [
       "0"
      ]
     },
     "execution_count": 25,
     "metadata": {},
     "output_type": "execute_result"
    }
   ],
   "source": [
    "# Remove contents inside ../datasets/RDD2022/\n",
    "os.system('rm -r ../datasets/RDD2022/*')\n",
    "\n",
    "# Copy ../data/RDD2022/ folder to ../datasets/RDD2022/\n",
    "os.system('cp -r ../data/RDD2022/ ../datasets/RDD2022/')"
   ]
  },
  {
   "cell_type": "code",
   "execution_count": 32,
   "metadata": {},
   "outputs": [
    {
     "name": "stdout",
     "output_type": "stream",
     "text": [
      "Creating anotations in YOLO format...\n"
     ]
    },
    {
     "name": "stderr",
     "output_type": "stream",
     "text": [
      "100%|██████████| 6/6 [00:05<00:00,  1.14it/s]"
     ]
    },
    {
     "name": "stdout",
     "output_type": "stream",
     "text": [
      "Num. Problematic files: 7439\n"
     ]
    },
    {
     "name": "stderr",
     "output_type": "stream",
     "text": [
      "\n"
     ]
    }
   ],
   "source": [
    "subdatasets = ['China_Drone', 'China_MotorBike', 'Czech', 'India', 'Japan', 'United_States']\n",
    "\n",
    "class_name_to_id_dict = {\n",
    "    'D00': 0,\n",
    "    'D10': 1,\n",
    "    'D20': 2,\n",
    "    'D40': 3,\n",
    "}\n",
    "\n",
    "problematic_files = []\n",
    "\n",
    "# For each subdataset open the train/anotations/xmls folder and add to train/anotations/ a file_name.txt with the anotations in YOLO format\n",
    "# For example, for China_Drone_000000.xml we will create a file China_Drone_000000.txt with the anotations in YOLO format at train/anotations/\n",
    "# YOLO format: class x_center y_center width height with values normalized between 0 and 1\n",
    "print('Creating anotations in YOLO format...')\n",
    "for subdataset in tqdm(subdatasets):\n",
    "    train_path = os.path.join(path, subdataset, 'train')\n",
    "    anotations_path = os.path.join(train_path, 'annotations')\n",
    "    xmls_path = os.path.join(anotations_path, 'xmls')\n",
    "    file_names = os.listdir(xmls_path)\n",
    "    \n",
    "    for file_name in file_names:\n",
    "        try:\n",
    "            file_name = file_name.split('.')[0]\n",
    "            with open(os.path.join(anotations_path, file_name + '.txt'), 'w') as file:\n",
    "                with open(os.path.join(xmls_path, file_name + '.xml'), 'r') as xml:\n",
    "                    tree = ET.parse(xml)\n",
    "                    root = tree.getroot()\n",
    "                    # Get the width and height of the image to normalize the anotations\n",
    "                    size = root.find('size')\n",
    "                    img_width = int(size.find('width').text)\n",
    "                    img_height = int(size.find('height').text)\n",
    "\n",
    "                    # Write the anotations in YOLO format\n",
    "                    for obj in root.findall('object'):\n",
    "                        # Class id:\n",
    "                        class_name = obj.find('name').text\n",
    "                        class_id = class_name_to_id_dict[class_name]\n",
    "                        # Bounding box:\n",
    "                        bbox = obj.find('bndbox')\n",
    "                        x_center = (int(bbox.find('xmin').text) + int(bbox.find('xmax').text)) / 2\n",
    "                        y_center = (int(bbox.find('ymin').text) + int(bbox.find('ymax').text)) / 2\n",
    "                        width = int(bbox.find('xmax').text) - int(bbox.find('xmin').text) \n",
    "                        height = int(bbox.find('ymax').text) - int(bbox.find('ymin').text)\n",
    "                        # Normalize the values\n",
    "                        x_center /= img_width\n",
    "                        y_center /= img_height\n",
    "                        width /= img_width\n",
    "                        height /= img_height\n",
    "                        # Write the anotation\n",
    "                        file.write(f'{class_id} {x_center} {y_center} {width} {height}\\n')\n",
    "                       \n",
    "        except Exception as e:\n",
    "            # Most of the errors are due to label not in ['D00', 'D10', 'D20', 'D40']\n",
    "            # print(f'Error with {file_name}: {e}')\n",
    "            problematic_files.append(file_name)\n",
    "            continue\n",
    "\n",
    "    # Create dataset_{subdataset}.yaml in yaml/ folder with YOLO dataset configuration\n",
    "    with open(f'yaml/dataset_{subdataset}.yaml', 'w') as file:\n",
    "        file.write(f'path: ../tfg-informatica/datasets/RDD2022/images\\n')\n",
    "        file.write(f'train: {subdataset}/train/images\\n')\n",
    "        file.write(f'val: {subdataset}/train/images\\n') # We don't have validation data. For now...\n",
    "        # Check if there is a {subdataset}/test folder exist\n",
    "        if os.path.exists(os.path.join(path, subdataset, 'test')):\n",
    "            file.write(f'test: {subdataset}/test/images\\n')\n",
    "        # Class names\n",
    "        file.write(f'\\nnames:\\n  0: D00\\n  1: D10\\n  2: D20\\n  3: D40\\n')\n",
    "\n",
    "print(f'Num. Problematic files: {len(problematic_files)}')"
   ]
  }
 ],
 "metadata": {
  "kernelspec": {
   "display_name": "env",
   "language": "python",
   "name": "python3"
  },
  "language_info": {
   "codemirror_mode": {
    "name": "ipython",
    "version": 3
   },
   "file_extension": ".py",
   "mimetype": "text/x-python",
   "name": "python",
   "nbconvert_exporter": "python",
   "pygments_lexer": "ipython3",
   "version": "3.10.7"
  }
 },
 "nbformat": 4,
 "nbformat_minor": 2
}
