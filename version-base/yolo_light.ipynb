{
 "cells": [
  {
   "cell_type": "code",
   "execution_count": 1,
   "metadata": {},
   "outputs": [],
   "source": [
    "# Install the ultralytics package from PyPI\n",
    "# !pip3 install ultralytics"
   ]
  },
  {
   "cell_type": "code",
   "execution_count": 2,
   "metadata": {},
   "outputs": [],
   "source": [
    "# Import Libraries\n",
    "import os, sys\n",
    "import numpy as np\n",
    "import pandas as pd\n",
    "import matplotlib.pyplot as plt\n",
    "import cv2\n",
    "import xml.etree.ElementTree as ET\n",
    "import seaborn as sns\n",
    "from tqdm import tqdm\n",
    "from ultralytics import YOLO\n",
    "from datetime import datetime\n",
    "import matplotlib as mpl"
   ]
  },
  {
   "cell_type": "code",
   "execution_count": null,
   "metadata": {},
   "outputs": [],
   "source": [
    "# Load a pretrained YOLO model (recommended for training)\n",
    "# model = YOLO('yolov8n.pt')\n",
    "model = YOLO('yolov5s.yaml')\n",
    "\n",
    "# Train the model - MPS (Metal Performance Shaders) for Apple M1 GPU\n",
    "results = model.train(data='yaml/dataset_China_MotorBike.yaml', epochs=1, device='mps', batch=32)"
   ]
  },
  {
   "cell_type": "code",
   "execution_count": null,
   "metadata": {},
   "outputs": [],
   "source": [
    "# Path to the trained weights\n",
    "weights = '../runs/detect/train16/weights/best.pt'\n",
    "\n",
    "# Load the trained model\n",
    "loaded_model = YOLO('yolov5s.yaml').load(weights)\n",
    "\n",
    "# Predict with the trained model\n",
    "test_image = '../datasets/RDD2022/images/China_MotorBike/test/images/China_MotorBike_001987.jpg'\n",
    "\n",
    "# Predict and show image with predicted bounding boxes\n",
    "results = loaded_model.predict(test_image, save=True)"
   ]
  }
 ],
 "metadata": {
  "kernelspec": {
   "display_name": "env",
   "language": "python",
   "name": "python3"
  },
  "language_info": {
   "codemirror_mode": {
    "name": "ipython",
    "version": 3
   },
   "file_extension": ".py",
   "mimetype": "text/x-python",
   "name": "python",
   "nbconvert_exporter": "python",
   "pygments_lexer": "ipython3",
   "version": "3.10.7"
  }
 },
 "nbformat": 4,
 "nbformat_minor": 2
}
