{
 "cells": [
  {
   "cell_type": "markdown",
   "metadata": {},
   "source": [
    "# Notebook para Validar el Modelo YOLO Previamente Entrenado\n",
    "\n",
    "En este notebook vamos a cargar el modelo YOLO que hemos entrenado en Google Colab y vamos a validarlo para obtener las métricas de precisión y recall."
   ]
  },
  {
   "cell_type": "code",
   "execution_count": 6,
   "metadata": {},
   "outputs": [],
   "source": [
    "# Import libraries\n",
    "import time\n",
    "import os\n",
    "from tqdm import tqdm\n",
    "from ultralytics import YOLO"
   ]
  },
  {
   "cell_type": "code",
   "execution_count": 7,
   "metadata": {},
   "outputs": [],
   "source": [
    "# Constantes\n",
    "PATH = '../yaml/datasetninja/local'\n",
    "PATH_MODEL = '../runs/detect'\n",
    "\n",
    "FOLDS = 4"
   ]
  },
  {
   "cell_type": "code",
   "execution_count": 8,
   "metadata": {},
   "outputs": [
    {
     "name": "stdout",
     "output_type": "stream",
     "text": [
      "Ultralytics YOLOv8.1.29 🚀 Python-3.10.7 torch-2.1.1 CPU (Apple M1 Pro)\n",
      "Model summary (fused): 168 layers, 11127132 parameters, 0 gradients, 28.4 GFLOPs\n"
     ]
    },
    {
     "name": "stderr",
     "output_type": "stream",
     "text": [
      "\u001b[34m\u001b[1mval: \u001b[0mScanning /Users/javi/Desktop/tfg-informatica/data/rdd2022-DatasetNinja/United_States/train/fold_0/labels.cache... 1202 images, 0 backgrounds, 0 corrupt: 100%|██████████| 1202/1202 [00:00<?, ?it/s]\n",
      "                 Class     Images  Instances      Box(P          R      mAP50  mAP50-95): 100%|██████████| 76/76 [09:10<00:00,  7.24s/it]\n"
     ]
    },
    {
     "name": "stdout",
     "output_type": "stream",
     "text": [
      "                   all       1202       2772       0.63      0.685      0.706       0.44\n",
      "D00 - Longitudinal Crack       1202       1673      0.663      0.851       0.82      0.542\n",
      "D10 - Transverse Crack       1202        854      0.633      0.746      0.732      0.397\n",
      " D20 - Alligator Crack       1202        212      0.621      0.778      0.805      0.577\n",
      "         D40 - Pothole       1202         33      0.601      0.364      0.468      0.245\n",
      "Speed: 0.7ms preprocess, 453.2ms inference, 0.0ms loss, 0.4ms postprocess per image\n",
      "Results saved to \u001b[1m/Users/javi/Desktop/tfg-informatica/runs/detect/val2\u001b[0m\n"
     ]
    },
    {
     "ename": "TypeError",
     "evalue": "write() argument must be str, not DetMetrics",
     "output_type": "error",
     "traceback": [
      "\u001b[0;31m---------------------------------------------------------------------------\u001b[0m",
      "\u001b[0;31mTypeError\u001b[0m                                 Traceback (most recent call last)",
      "Cell \u001b[0;32mIn[8], line 13\u001b[0m\n\u001b[1;32m     11\u001b[0m \u001b[38;5;66;03m# Save the results\u001b[39;00m\n\u001b[1;32m     12\u001b[0m \u001b[38;5;28;01mwith\u001b[39;00m \u001b[38;5;28mopen\u001b[39m(os\u001b[38;5;241m.\u001b[39mpath\u001b[38;5;241m.\u001b[39mjoin(PATH_MODEL, MODEL_NAME\u001b[38;5;241m.\u001b[39mreplace(\u001b[38;5;124m'\u001b[39m\u001b[38;5;124mbest.pt\u001b[39m\u001b[38;5;124m'\u001b[39m, \u001b[38;5;124m'\u001b[39m\u001b[38;5;124mmetrics.txt\u001b[39m\u001b[38;5;124m'\u001b[39m)), \u001b[38;5;124m'\u001b[39m\u001b[38;5;124mw\u001b[39m\u001b[38;5;124m'\u001b[39m) \u001b[38;5;28;01mas\u001b[39;00m f:\n\u001b[0;32m---> 13\u001b[0m     \u001b[43mf\u001b[49m\u001b[38;5;241;43m.\u001b[39;49m\u001b[43mwrite\u001b[49m\u001b[43m(\u001b[49m\u001b[43mmetrics\u001b[49m\u001b[43m)\u001b[49m\n",
      "\u001b[0;31mTypeError\u001b[0m: write() argument must be str, not DetMetrics"
     ]
    }
   ],
   "source": [
    "for i in range(FOLDS):\n",
    "    YAML_NAME = 'train_United_States_val_fold_' + str(i) + '.yaml'\n",
    "    MODEL_NAME = 'gcolab_small_United_States_cv' + str(i) + '_60ex50b_pt/weights/best.pt'\n",
    "\n",
    "    # Load the model\n",
    "    model = YOLO(os.path.join(PATH_MODEL, MODEL_NAME))\n",
    "\n",
    "    # Validate the model\n",
    "    metrics = model.val(data=os.path.join(PATH, YAML_NAME), verbose=True)"
   ]
  },
  {
   "cell_type": "code",
   "execution_count": null,
   "metadata": {},
   "outputs": [],
   "source": []
  }
 ],
 "metadata": {
  "kernelspec": {
   "display_name": "env",
   "language": "python",
   "name": "python3"
  },
  "language_info": {
   "codemirror_mode": {
    "name": "ipython",
    "version": 3
   },
   "file_extension": ".py",
   "mimetype": "text/x-python",
   "name": "python",
   "nbconvert_exporter": "python",
   "pygments_lexer": "ipython3",
   "version": "3.10.7"
  }
 },
 "nbformat": 4,
 "nbformat_minor": 2
}
