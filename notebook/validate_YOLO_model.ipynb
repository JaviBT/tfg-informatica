{
 "cells": [
  {
   "cell_type": "markdown",
   "metadata": {},
   "source": [
    "# Notebook para validar el modelo YOLO previamente entrenado\n",
    "\n",
    "En este notebook vamos a cargar el modelo YOLO que hemos entrenado en Google Colab y vamos a validarlo para obtener las métricas de precisión y recall."
   ]
  },
  {
   "cell_type": "code",
   "execution_count": 5,
   "metadata": {},
   "outputs": [],
   "source": [
    "# Import libraries\n",
    "import time\n",
    "import os\n",
    "from tqdm import tqdm\n",
    "from ultralytics import YOLO"
   ]
  },
  {
   "cell_type": "code",
   "execution_count": 6,
   "metadata": {},
   "outputs": [],
   "source": [
    "# Constantes\n",
    "PATH = '../yaml/datasetninja/local'\n",
    "PATH_MODEL = '../runs/detect'\n",
    "\n",
    "FOLDS = 4"
   ]
  },
  {
   "cell_type": "code",
   "execution_count": 7,
   "metadata": {},
   "outputs": [
    {
     "name": "stdout",
     "output_type": "stream",
     "text": [
      "Ultralytics YOLOv8.1.29 🚀 Python-3.10.7 torch-2.1.1 CPU (Apple M1 Pro)\n",
      "Model summary (fused): 168 layers, 11127132 parameters, 0 gradients, 28.4 GFLOPs\n"
     ]
    },
    {
     "name": "stderr",
     "output_type": "stream",
     "text": [
      "\u001b[34m\u001b[1mval: \u001b[0mScanning /Users/javi/Desktop/tfg-informatica/data/rdd2022-DatasetNinja/United_States/train/fold_0/labels.cache... 1202 images, 0 backgrounds, 0 corrupt: 100%|██████████| 1202/1202 [00:00<?, ?it/s]\n",
      "                 Class     Images  Instances      Box(P          R      mAP50  mAP50-95): 100%|██████████| 76/76 [08:47<00:00,  6.94s/it]\n"
     ]
    },
    {
     "name": "stdout",
     "output_type": "stream",
     "text": [
      "                   all       1202       2772       0.63      0.685      0.706       0.44\n",
      "D00 - Longitudinal Crack       1202       1673      0.663      0.851       0.82      0.542\n",
      "D10 - Transverse Crack       1202        854      0.633      0.746      0.732      0.397\n",
      " D20 - Alligator Crack       1202        212      0.621      0.778      0.805      0.577\n",
      "         D40 - Pothole       1202         33      0.601      0.364      0.468      0.245\n",
      "Speed: 0.8ms preprocess, 433.7ms inference, 0.0ms loss, 0.3ms postprocess per image\n",
      "Results saved to \u001b[1m/Users/javi/Desktop/tfg-informatica/runs/detect/val3\u001b[0m\n",
      "Ultralytics YOLOv8.1.29 🚀 Python-3.10.7 torch-2.1.1 CPU (Apple M1 Pro)\n",
      "Model summary (fused): 168 layers, 11127132 parameters, 0 gradients, 28.4 GFLOPs\n"
     ]
    },
    {
     "name": "stderr",
     "output_type": "stream",
     "text": [
      "\u001b[34m\u001b[1mval: \u001b[0mScanning /Users/javi/Desktop/tfg-informatica/data/rdd2022-DatasetNinja/United_States/train/fold_1/labels.cache... 1201 images, 0 backgrounds, 0 corrupt: 100%|██████████| 1201/1201 [00:00<?, ?it/s]\n",
      "                 Class     Images  Instances      Box(P          R      mAP50  mAP50-95): 100%|██████████| 76/76 [08:40<00:00,  6.85s/it]\n"
     ]
    },
    {
     "name": "stdout",
     "output_type": "stream",
     "text": [
      "                   all       1201       2721      0.641      0.716      0.705      0.447\n",
      "D00 - Longitudinal Crack       1201       1677      0.656      0.871      0.847       0.57\n",
      "D10 - Transverse Crack       1201        813      0.674       0.78       0.78      0.448\n",
      " D20 - Alligator Crack       1201        199      0.635      0.744      0.772      0.547\n",
      "         D40 - Pothole       1201         32      0.599      0.469      0.421      0.223\n",
      "Speed: 0.6ms preprocess, 428.6ms inference, 0.0ms loss, 0.4ms postprocess per image\n",
      "Results saved to \u001b[1m/Users/javi/Desktop/tfg-informatica/runs/detect/val4\u001b[0m\n",
      "Ultralytics YOLOv8.1.29 🚀 Python-3.10.7 torch-2.1.1 CPU (Apple M1 Pro)\n",
      "Model summary (fused): 168 layers, 11127132 parameters, 0 gradients, 28.4 GFLOPs\n"
     ]
    },
    {
     "name": "stderr",
     "output_type": "stream",
     "text": [
      "\u001b[34m\u001b[1mval: \u001b[0mScanning /Users/javi/Desktop/tfg-informatica/data/rdd2022-DatasetNinja/United_States/train/fold_2/labels.cache... 1201 images, 0 backgrounds, 0 corrupt: 100%|██████████| 1201/1201 [00:00<?, ?it/s]\n",
      "                 Class     Images  Instances      Box(P          R      mAP50  mAP50-95): 100%|██████████| 76/76 [09:11<00:00,  7.25s/it]\n"
     ]
    },
    {
     "name": "stdout",
     "output_type": "stream",
     "text": [
      "                   all       1201       2737       0.68      0.677      0.717       0.46\n",
      "D00 - Longitudinal Crack       1201       1693       0.73      0.846      0.866      0.579\n",
      "D10 - Transverse Crack       1201        786      0.665      0.729      0.724      0.417\n",
      " D20 - Alligator Crack       1201        223      0.749      0.789      0.834       0.58\n",
      "         D40 - Pothole       1201         35      0.574      0.343      0.446      0.265\n",
      "Speed: 0.8ms preprocess, 453.9ms inference, 0.0ms loss, 0.4ms postprocess per image\n",
      "Results saved to \u001b[1m/Users/javi/Desktop/tfg-informatica/runs/detect/val5\u001b[0m\n",
      "Ultralytics YOLOv8.1.29 🚀 Python-3.10.7 torch-2.1.1 CPU (Apple M1 Pro)\n",
      "Model summary (fused): 168 layers, 11127132 parameters, 0 gradients, 28.4 GFLOPs\n"
     ]
    },
    {
     "name": "stderr",
     "output_type": "stream",
     "text": [
      "\u001b[34m\u001b[1mval: \u001b[0mScanning /Users/javi/Desktop/tfg-informatica/data/rdd2022-DatasetNinja/United_States/train/fold_3/labels.cache... 1201 images, 0 backgrounds, 0 corrupt: 100%|██████████| 1201/1201 [00:00<?, ?it/s]\n",
      "                 Class     Images  Instances      Box(P          R      mAP50  mAP50-95): 100%|██████████| 76/76 [09:20<00:00,  7.37s/it]\n"
     ]
    },
    {
     "name": "stdout",
     "output_type": "stream",
     "text": [
      "                   all       1201       2784      0.662      0.675      0.711      0.451\n",
      "D00 - Longitudinal Crack       1201       1707      0.746      0.816      0.849      0.566\n",
      "D10 - Transverse Crack       1201        842      0.715      0.719       0.77      0.434\n",
      " D20 - Alligator Crack       1201        200      0.735      0.795      0.848      0.606\n",
      "         D40 - Pothole       1201         35      0.452      0.371      0.379      0.196\n",
      "Speed: 0.7ms preprocess, 461.3ms inference, 0.0ms loss, 0.3ms postprocess per image\n",
      "Results saved to \u001b[1m/Users/javi/Desktop/tfg-informatica/runs/detect/val6\u001b[0m\n"
     ]
    }
   ],
   "source": [
    "# Guardamos los resumenes de resultados\n",
    "saved_results = []\n",
    "\n",
    "for i in range(FOLDS):\n",
    "    YAML_NAME = 'train_United_States_val_fold_' + str(i) + '.yaml'\n",
    "    MODEL_NAME = 'gcolab_small_United_States_cv' + str(i) + '_60ex50b_pt/weights/best.pt'\n",
    "\n",
    "    # Load the model\n",
    "    model = YOLO(os.path.join(PATH_MODEL, MODEL_NAME))\n",
    "\n",
    "    # Validate the model\n",
    "    metrics = model.val(data=os.path.join(PATH, YAML_NAME), verbose=True)\n",
    "\n",
    "    # Save the results\n",
    "    saved_results.append(model.metrics)"
   ]
  },
  {
   "cell_type": "code",
   "execution_count": 8,
   "metadata": {},
   "outputs": [
    {
     "name": "stdout",
     "output_type": "stream",
     "text": [
      "{'metrics/precision(B)': 0.653, 'metrics/recall(B)': 0.688, 'metrics/mAP50(B)': 0.71, 'metrics/mAP50-95(B)': 0.449, 'fitness': 0.476, 'F1 Score': 0.6700432513049963}\n"
     ]
    }
   ],
   "source": [
    "results = {}\n",
    "\n",
    "for result in saved_results:\n",
    "    for key in result.results_dict.keys():\n",
    "        if key not in results.keys():\n",
    "            results[key] = 0\n",
    "        results[key] += result.results_dict[key]\n",
    "\n",
    "num_results = len(saved_results)\n",
    "for key in results.keys():\n",
    "    results[key] /= num_results\n",
    "    results[key] = round(results[key], 3)\n",
    "\n",
    "# Añadimos el F1 score a results\n",
    "precision = results['metrics/precision(B)']\n",
    "recall = results['metrics/recall(B)']\n",
    "results['F1 Score'] = 2 * (precision * recall) / (precision + recall)\n",
    "\n",
    "print(results)"
   ]
  },
  {
   "cell_type": "code",
   "execution_count": null,
   "metadata": {},
   "outputs": [],
   "source": []
  }
 ],
 "metadata": {
  "kernelspec": {
   "display_name": "env",
   "language": "python",
   "name": "python3"
  },
  "language_info": {
   "codemirror_mode": {
    "name": "ipython",
    "version": 3
   },
   "file_extension": ".py",
   "mimetype": "text/x-python",
   "name": "python",
   "nbconvert_exporter": "python",
   "pygments_lexer": "ipython3",
   "version": "3.10.7"
  }
 },
 "nbformat": 4,
 "nbformat_minor": 2
}
